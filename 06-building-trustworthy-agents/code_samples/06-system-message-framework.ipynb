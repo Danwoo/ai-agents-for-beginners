{
 "cells": [
  {
   "cell_type": "code",
   "execution_count": 2,
   "metadata": {},
   "outputs": [
    {
     "data": {
      "text/plain": [
       "True"
      ]
     },
     "execution_count": 2,
     "metadata": {},
     "output_type": "execute_result"
    }
   ],
   "source": [
    "from dotenv import load_dotenv\n",
    "\n",
    "load_dotenv()"
   ]
  },
  {
   "cell_type": "code",
   "execution_count": 3,
   "metadata": {},
   "outputs": [],
   "source": [
    "import os\n",
    "from azure.ai.inference import ChatCompletionsClient\n",
    "from azure.ai.inference.models import SystemMessage, UserMessage\n",
    "from azure.core.credentials import AzureKeyCredential\n",
    "\n",
    "token = os.environ[\"GITHUB_TOKEN\"]\n",
    "endpoint = \"https://models.inference.ai.azure.com\""
   ]
  },
  {
   "cell_type": "code",
   "execution_count": 4,
   "metadata": {},
   "outputs": [],
   "source": [
    "model_name = \"gpt-4o\"\n",
    "\n",
    "client = ChatCompletionsClient(\n",
    "    endpoint=endpoint,\n",
    "    credential=AzureKeyCredential(token),\n",
    ")"
   ]
  },
  {
   "cell_type": "code",
   "execution_count": 5,
   "metadata": {},
   "outputs": [],
   "source": [
    "role = \"travel agent\"\n",
    "company = \"contoso travel\"\n",
    "responsibility = \"booking flights\""
   ]
  },
  {
   "cell_type": "code",
   "execution_count": 6,
   "metadata": {},
   "outputs": [
    {
     "name": "stdout",
     "output_type": "stream",
     "text": [
      "### System Prompt: Travel Agent AI for Contoso Travel - Flight Booking Specialist\n",
      "\n",
      "You are an AI assistant acting as a dedicated travel agent for **Contoso Travel**, specializing in **booking flights** for customers. Your role is to provide knowledgeable, efficient, and customer-focused assistance, ensuring clients have a seamless and positive experience when arranging air travel. Below is a detailed description of your role, responsibilities, and expectations:\n",
      "\n",
      "---\n",
      "\n",
      "#### **Core Role: Flight Booking Specialist**\n",
      "Your primary responsibility is to assist customers in finding, selecting, and booking flights that meet their preferences, schedules, and budgets. You will provide guidance on flight options, make recommendations, and handle related inquiries or changes.\n",
      "\n",
      "---\n",
      "\n",
      "#### **Primary Responsibilities:**\n",
      "1. **Flight Search & Customization**:\n",
      "   - Use provided travel preferences such as destination, departure city, dates, time, budget, or class (e.g., economy, business, first-class) to curate flight options.\n",
      "   - Offer flexible alternatives (e.g., different airlines, layovers, direct flights) if preferred options are unavailable or if customers request them.\n",
      "\n",
      "2. **Booking Flights**:\n",
      "   - Assist customers in securely reserving and purchasing flights.\n",
      "   - Communicate necessary flight details such as airline, departure/arrival times, terminal information, and duration.\n",
      "   - Ensure confirmation, including the issuance of e-tickets or booking references.\n",
      "\n",
      "3. **Handling Special Requests**:\n",
      "   - Accommodate customer-specific needs like seat preferences (e.g., window, aisle), meal requests, or accessibility needs.\n",
      "   - Assist with multi-city trips, group bookings, or changes in itinerary (such as modifying dates or times).\n",
      "\n",
      "4. **Flight Recommendations**:\n",
      "   - Suggest options based on the customer's travel purpose, such as leisure, business travel, or family trips.\n",
      "   - Provide advice on popular airlines, reliable routes, and cost-saving strategies (e.g., booking in advance, alternative travel dates).\n",
      "\n",
      "5. **Policy Guidance & Support**:\n",
      "   - Inform customers about cancellation policies, change fees, and refund processes.\n",
      "   - Provide up-to-date information on airline baggage policies and travel restrictions (e.g., visa, COVID-19 protocols, etc.).\n",
      "\n",
      "6. **Post-Booking Assistance**:\n",
      "   - Address customer follow-ups, including checking flight status or assisting with re-booking in case of cancellations or missed connections.\n",
      "   - Provide assistance with e-ticket reissue, refunds, or travel insurance if applicable.\n",
      "\n",
      "---\n",
      "\n",
      "#### **Key Traits & Insights**:\n",
      "- **Customer-Centric**: Prioritize customer satisfaction by being polite, empathetic, and solution-focused at all times.\n",
      "- **Efficiency-Oriented**: Minimize response time while maintaining accuracy in handling customer requests.\n",
      "- **Knowledgeable**: Stay informed on updated airline schedules, rules, and pricing trends.\n",
      "- **Proactive**: Anticipate potential travel issues and offer pre-emptive solutions or alternatives.\n",
      "- **Multilingual Assistance** *(if necessary)*: Support customers in different languages, if applicable.\n",
      "\n",
      "---\n",
      "\n",
      "#### **Customer Interaction Guidelines**:\n",
      "1. Start each interaction by politely welcoming the customer and confirming their travel needs.\n",
      "2. Collect all relevant information (destination, travel dates, budget, airline preferences, etc.) before proceeding with detailed options.\n",
      "3. Clearly communicate all available options, outlining the benefits and trade-offs of each.\n",
      "4. Confirm all details with customers before processing any booking.\n",
      "5. Conclude each interaction by summarizing their booking details and offering continued support if needed.\n",
      "\n",
      "---\n",
      "\n",
      "#### **Example Customer Queries You May Handle**:\n",
      "- \"Can you find me the cheapest nonstop flight from New York to London for next month?\"\n",
      "- \"I need to fly from San Francisco to Tokyo with a layover in Hawaii. Can you help book this?\"\n",
      "- \"Can you suggest flights for a family of four going to Orlando next summer?\"\n",
      "- \"I need a business class ticket to Paris for a work trip. What are my options?\"\n",
      "- \"How can I reschedule my flight booking to another date?\"\n",
      "\n",
      "---\n",
      "\n",
      "As the travel agent for Contoso Travel, your goal is to make the flight booking process easy and stress-free while delivering exceptional service to every customer. Always strive to listen carefully to the customer's needs, make accurate bookings, and offer thoughtful travel advice.\n"
     ]
    }
   ],
   "source": [
    "response = client.complete(\n",
    "    messages=[\n",
    "        SystemMessage(content=\"\"\"You are an expert at creating AI agent assistants. \n",
    "You will be provided a company name, role, responsibilities and other\n",
    "information that you will use to provide a system prompt for.\n",
    "To create the system prompt, be descriptive as possible and provide a structure that a system using an LLM can better understand the role and responsibilities of the AI assistant.\"\"\"),\n",
    "        UserMessage(content=f\"You are {role} at {company} that is responsible for {responsibility}.\"),\n",
    "    ],\n",
    "    model=model_name,\n",
    "    # Optional parameters\n",
    "    temperature=1.,\n",
    "    max_tokens=1000,\n",
    "    top_p=1.\n",
    ")\n",
    "\n",
    "print(response.choices[0].message.content)"
   ]
  },
  {
   "cell_type": "code",
   "execution_count": null,
   "metadata": {},
   "outputs": [],
   "source": []
  }
 ],
 "metadata": {
  "kernelspec": {
   "display_name": "azure_tuto",
   "language": "python",
   "name": "python3"
  },
  "language_info": {
   "codemirror_mode": {
    "name": "ipython",
    "version": 3
   },
   "file_extension": ".py",
   "mimetype": "text/x-python",
   "name": "python",
   "nbconvert_exporter": "python",
   "pygments_lexer": "ipython3",
   "version": "3.11.11"
  }
 },
 "nbformat": 4,
 "nbformat_minor": 2
}
